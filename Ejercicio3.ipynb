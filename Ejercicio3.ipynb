{
 "cells": [
  {
   "cell_type": "markdown",
   "metadata": {},
   "source": [
    "# Trabajo computacional 1. Ejercicio 3"
   ]
  },
  {
   "cell_type": "markdown",
   "metadata": {},
   "source": [
    "**3)** Considere la red  *as-22july06.gml* creada por Mark Newman que contiene la estructura de los sistemas autónomos de internet relevada a mediados de 2006.\n",
    "    *a.* Encuentre gráficamente la distribución de grado Pk como función de k explorando diferentes alternativas: un bineado lineal o logarítmico, utilizando escalas logarítmicas o lineales en uno o ambos ejes. Discuta que alternativa permite apreciar mejor el carácter libre de escala de dicha distribución."
   ]
  },
  {
   "cell_type": "code",
   "execution_count": 26,
   "metadata": {},
   "outputs": [],
   "source": [
    "def ldata(archive):      \n",
    "    f=open(archive)\n",
    "    data=[]\n",
    "    for line in f:\n",
    "        line=line.strip()\n",
    "        col=line.split()\n",
    "        data.append(col)\n",
    "    return data\n"
   ]
  },
  {
   "cell_type": "code",
   "execution_count": 1,
   "metadata": {},
   "outputs": [],
   "source": [
    "import numpy as np\n",
    "import networkx as nx\n",
    "import matplotlib.pyplot as plt\n",
    "import pandas as pd\n",
    "\n"
   ]
  },
  {
   "cell_type": "code",
   "execution_count": 27,
   "metadata": {},
   "outputs": [],
   "source": [
    "red_social=ldata(\"data/as-22july06.gml\")\n",
    "G=nx.read_gml(\"data/as-22july06.gml\")\n"
   ]
  },
  {
   "cell_type": "code",
   "execution_count": 28,
   "metadata": {},
   "outputs": [
    {
     "data": {
      "text/plain": [
       "48436"
      ]
     },
     "execution_count": 28,
     "metadata": {},
     "output_type": "execute_result"
    }
   ],
   "source": [
    "nx.number_of_edges(G)"
   ]
  },
  {
   "cell_type": "code",
   "execution_count": 29,
   "metadata": {},
   "outputs": [
    {
     "data": {
      "text/plain": [
       "22963"
      ]
     },
     "execution_count": 29,
     "metadata": {},
     "output_type": "execute_result"
    }
   ],
   "source": [
    "nx.number_of_nodes(G)"
   ]
  },
  {
   "cell_type": "markdown",
   "metadata": {},
   "source": [
    "Se creó una lista que contenga a los nodos de la red, se puede corroborar que el tamaño de la lista coincide con el número de nodos presentado anteriormente."
   ]
  },
  {
   "cell_type": "code",
   "execution_count": 30,
   "metadata": {},
   "outputs": [],
   "source": [
    "Nodos=[]               #lista con los nodos\n",
    "for n in G.nodes():\n",
    "    Nodos.append(n)"
   ]
  },
  {
   "cell_type": "code",
   "execution_count": 31,
   "metadata": {},
   "outputs": [
    {
     "data": {
      "text/plain": [
       "22963"
      ]
     },
     "execution_count": 31,
     "metadata": {},
     "output_type": "execute_result"
    }
   ],
   "source": [
    "len(Nodos)"
   ]
  },
  {
   "cell_type": "markdown",
   "metadata": {},
   "source": [
    "De la misma manera, se creó una lista con los grados de los nodos, se corrobora que la lista tiene como tamaño el número total de nodos."
   ]
  },
  {
   "cell_type": "code",
   "execution_count": 32,
   "metadata": {},
   "outputs": [],
   "source": [
    "K=[]                              #lista con los grados de los nodos\n",
    "for n in Nodos:\n",
    "    K.append(nx.degree(G,n))"
   ]
  },
  {
   "cell_type": "code",
   "execution_count": 33,
   "metadata": {},
   "outputs": [
    {
     "data": {
      "text/plain": [
       "22963"
      ]
     },
     "execution_count": 33,
     "metadata": {},
     "output_type": "execute_result"
    }
   ],
   "source": [
    "len(K)"
   ]
  },
  {
   "cell_type": "code",
   "execution_count": 34,
   "metadata": {},
   "outputs": [
    {
     "data": {
      "text/plain": [
       "2390"
      ]
     },
     "execution_count": 34,
     "metadata": {},
     "output_type": "execute_result"
    }
   ],
   "source": [
    "max(K)"
   ]
  },
  {
   "cell_type": "code",
   "execution_count": 35,
   "metadata": {},
   "outputs": [
    {
     "data": {
      "text/plain": [
       "1"
      ]
     },
     "execution_count": 35,
     "metadata": {},
     "output_type": "execute_result"
    }
   ],
   "source": [
    "min(K)"
   ]
  },
  {
   "cell_type": "markdown",
   "metadata": {},
   "source": [
    "Los grados de la red van desde 1 a 2390, a continuación se expondrán distintas formas de presentar la distribución de grados del \n",
    "grafo:"
   ]
  },
  {
   "cell_type": "markdown",
   "metadata": {},
   "source": [
    "En primer lugar, se graficó en escala lineal en ambos ejes. La escala del eje *x*, asociado al grado, es grande ya que el grado máximo es 2390. Es de esperar que el número de nodos con tan alta conectividad sea mucho menor a la de nodos de grados más bajos, por lo que es probable que en escala lineal no se obtenga información relevante sobre la distribución. Se observa efectivamente eso en el gráfico 1.\n",
    "\n"
   ]
  },
  {
   "cell_type": "markdown",
   "metadata": {},
   "source": [
    "*Nota: Los gráficos mostrados no están normalizados, al estar trabajando con una única red la información proporcionada en cada caso no difiere. Se eligió trabajar con el número de ocurrencias debido a que permite ver de forma directa cuántos nodos -u órdenes de magnitud- hay para cada grado.*"
   ]
  },
  {
   "cell_type": "code",
   "execution_count": 36,
   "metadata": {},
   "outputs": [
    {
     "data": {
      "image/png": "[encoded data removed]",
      "text/plain": [
       "<Figure size 432x288 with 1 Axes>"
      ]
     },
     "metadata": {},
     "output_type": "display_data"
    }
   ],
   "source": [
    "plt.hist(K,log=False, bins= 100) \n",
    "plt.ylabel(\"Número de ocurrencias\")\n",
    "plt.xlabel(\"Grado\")\n",
    "plt.title(\"Gráfico 1: Distribución de grados en escala lineal en ambos ejes\")\n",
    "plt.show()\n"
   ]
  },
  {
   "cell_type": "markdown",
   "metadata": {},
   "source": [
    "En el gráfico 2 se trabajó con escala lograrítmica en el eje de las abscisas."
   ]
  },
  {
   "cell_type": "code",
   "execution_count": 28,
   "metadata": {},
   "outputs": [
    {
     "data": {
      "image/png": "[encoded data removed]",
      "text/plain": [
       "<Figure size 432x288 with 1 Axes>"
      ]
     },
     "metadata": {},
     "output_type": "display_data"
    }
   ],
   "source": [
    "plt.hist(K,bins=1000)      #plot con escala log en x\n",
    "plt.xscale(\"log\")\n",
    "plt.ylabel(\"Número de ocurrencias\")\n",
    "plt.xlabel(\"Grado\")\n",
    "plt.title(\"Gráfico 2: Distribución de grados en escala logarítmica en el eje x y escala lineal en el eje de las ordenadas\")\n",
    "plt.show()"
   ]
  },
  {
   "cell_type": "markdown",
   "metadata": {},
   "source": [
    "En el gráfico 3 se muestra el histograma con escala logarítmica en el eje *y*:"
   ]
  },
  {
   "cell_type": "code",
   "execution_count": 37,
   "metadata": {},
   "outputs": [
    {
     "data": {
      "image/png": "[encoded data removed]",
      "text/plain": [
       "<Figure size 432x288 with 1 Axes>"
      ]
     },
     "metadata": {},
     "output_type": "display_data"
    }
   ],
   "source": [
    "plt.hist(K,log=True, bins= 100)# density=1) #plot con escala log en y\n",
    "plt.ylabel(\"Número de ocurrencias\")\n",
    "plt.xlabel(\"Grado\")\n",
    "plt.title(\"Gráfico 3: Distribución de grados en escala lineal en el eje x y escala logarítmica en el eje de las ordenadas\")\n",
    "plt.show()"
   ]
  },
  {
   "cell_type": "markdown",
   "metadata": {},
   "source": [
    "En esta gráfica se permite observar que existen nodos altamente conectados (*k>1000*), pero que son pocos en comparación con los de grado menor a 500 por ejemplo. Al graficar en escala logarítmica se puede ver el orden del número de nodos para los distintos grados, permitiendo así conocer mejor la distribución.\n"
   ]
  },
  {
   "cell_type": "markdown",
   "metadata": {},
   "source": [
    "En el gráfico 4 se utilizaron escalas logarítmicas en ambos ejes."
   ]
  },
  {
   "cell_type": "code",
   "execution_count": 38,
   "metadata": {},
   "outputs": [
    {
     "data": {
      "image/png": "[encoded data removed]",
      "text/plain": [
       "<Figure size 432x288 with 1 Axes>"
      ]
     },
     "metadata": {},
     "output_type": "display_data"
    }
   ],
   "source": [
    "plt.hist(K, bins=1000) #plot con escala log en x y en y   \n",
    "plt.yscale(\"log\")\n",
    "plt.xscale(\"log\")\n",
    "plt.ylabel(\"Número de ocurrencias\")\n",
    "plt.xlabel(\"Grado\")\n",
    "plt.title(\"Gráfico 4: Distribución de grados en escala logarítmica en ambos ejes\")\n",
    "plt.show()"
   ]
  },
  {
   "cell_type": "markdown",
   "metadata": {},
   "source": [
    "Al trabajar con escala logarítmica se puede observar una tendencia en la distribución, sin embargo para grados grandes veo una meseta de eventos, dado que al tener fijo el tamaño del *bin* diferencia por ejemplo el grado 1000 y 1001, ambos de baja ocurrencia."
   ]
  },
  {
   "cell_type": "markdown",
   "metadata": {},
   "source": [
    "A continuación en el gráfico 5 se muestra la distribución de grado con ejes en escala logarítmica, indicando el centro del *bin*. Se observa con mayor claridad la meseta de eventos de alta conectividad."
   ]
  },
  {
   "cell_type": "code",
   "execution_count": 130,
   "metadata": {
    "scrolled": true
   },
   "outputs": [
    {
     "data": {
      "image/png": "[encoded data removed]",
      "text/plain": [
       "<Figure size 432x288 with 1 Axes>"
      ]
     },
     "metadata": {},
     "output_type": "display_data"
    }
   ],
   "source": [
    "bins=1000\n",
    "\n",
    "HistLogLog=np.histogram(K,bins=bins)\n",
    "x=HistLogLog[1]\n",
    "y=HistLogLog[0]\n",
    "\n",
    "plt.scatter(x[0:1000],y[0:1000])\n",
    "plt.title('Gráfico 5: Distribución de grado con escala logarítmica en ambos ejes')\n",
    "plt.xscale('log')\n",
    "plt.yscale('log')\n",
    "plt.xlabel(\"Grado\")\n",
    "plt.ylabel(\"Número de ocurrencias\")\n",
    "plt.ylim(ymin=0.1)\n",
    "plt.show()"
   ]
  },
  {
   "cell_type": "markdown",
   "metadata": {},
   "source": [
    "Al trabajar con el tamaño de las celdas fijo obtenemos la meseta. Se buscará tener un *bineado* logarítmico, de forma tal que el tamaño de la celda de grado aumente en forma logarítmica con el grado,´por lo que se los grados grandes estarán dentro de la misma celda, evitando así tener una meseta marcada."
   ]
  },
  {
   "cell_type": "code",
   "execution_count": 127,
   "metadata": {},
   "outputs": [
    {
     "data": {
      "text/plain": [
       "[1, 3, 7, 15, 31, 63, 127, 255, 511, 1023, 2047, 4095]"
      ]
     },
     "execution_count": 127,
     "metadata": {},
     "output_type": "execute_result"
    }
   ],
   "source": [
    "bink=12\n",
    "b=[0]\n",
    "for i in range(bink):\n",
    "    b[i]=b[i-1]+2**i\n",
    "    b.append(b[i])\n",
    "B=[]                 ##Este es el que vamos a usar para dar el ancho de los bines\n",
    "for i in range(bink):\n",
    "    B.append(b[i])\n",
    "\n",
    "B     ##Vector  con los bines de bineo logaritmico"
   ]
  },
  {
   "cell_type": "code",
   "execution_count": 131,
   "metadata": {},
   "outputs": [
    {
     "data": {
      "image/png": "[encoded data removed]",
      "text/plain": [
       "<Figure size 432x288 with 1 Axes>"
      ]
     },
     "metadata": {},
     "output_type": "display_data"
    }
   ],
   "source": [
    "sorted(K)      #Ordenamos la lista de los grados de los nodos de menor a mayor\n",
    "Pklog=[]       ## Creamos una lista a la que le vamos a agregar la cantidad de nodos en un bin, dividido el ancho del bin. Considerando el vector de bins B\n",
    "for i in range(bink):\n",
    "    a=0\n",
    "    for k in K:\n",
    "        \n",
    "        if B[i]<=k<B[i+1]:\n",
    "            a+=1\n",
    "    Pklog.append(a/2**(1+i))\n",
    "    \n",
    "plt.scatter(B,Pklog, label=\"Bineo logarítmico\")\n",
    "plt.scatter(x[0:1000],y[0:1000], label=\"Bineo lineal\")\n",
    "plt.xscale('log')\n",
    "plt.yscale('log')\n",
    "plt.ylim(ymax=10**5,ymin=10**(-4))\n",
    "plt.xlabel(\"Grado\")\n",
    "plt.legend()\n",
    "plt.ylabel(\"Número de ocurrencias\")\n",
    "plt.title('Gráfico 6: Comparando bineo lineal con bineo logaritmico')\n",
    "plt.show()"
   ]
  },
  {
   "cell_type": "code",
   "execution_count": null,
   "metadata": {},
   "outputs": [],
   "source": []
  },
  {
   "cell_type": "markdown",
   "metadata": {},
   "source": [
    "b. Utilizando funcionalidad de la librería igraph, estime el exponente de dicha distribución."
   ]
  },
  {
   "cell_type": "code",
   "execution_count": 111,
   "metadata": {},
   "outputs": [],
   "source": [
    "import igraph as ig"
   ]
  },
  {
   "cell_type": "code",
   "execution_count": 120,
   "metadata": {},
   "outputs": [
    {
     "data": {
      "text/plain": [
       "FittedPowerLaw(continuous=False, alpha=2.087156668877868, xmin=5.0, L=-7690.8859032442015, D=0.010257063060934463, p=0.9690701708971169)"
      ]
     },
     "execution_count": 120,
     "metadata": {},
     "output_type": "execute_result"
    }
   ],
   "source": [
    "F=ig.power_law_fit(K, xmin=None, method='auto', return_alpha_only=False)\n",
    "F"
   ]
  },
  {
   "cell_type": "code",
   "execution_count": 138,
   "metadata": {},
   "outputs": [
    {
     "data": {
      "image/png": "[encoded data removed]",
      "text/plain": [
       "<Figure size 432x288 with 1 Axes>"
      ]
     },
     "metadata": {},
     "output_type": "display_data"
    },
    {
     "data": {
      "text/plain": [
       "array([1.   , 3.389, 5.778, 8.167])"
      ]
     },
     "execution_count": 138,
     "metadata": {},
     "output_type": "execute_result"
    }
   ],
   "source": [
    "X=np.arange(1,1000,100)\n",
    "plt.scatter(x[0:1000],y[0:1000], label=\"Bineo lineal\")\n",
    "plt.plot(X,(2.087156-1)*1**(2.087156-1)*X**(-2.087156))\n",
    "plt.xscale('log')\n",
    "plt.yscale('log')\n",
    "plt.show()\n",
    "x[:4]"
   ]
  }
 ],
 "metadata": {
  "kernelspec": {
   "display_name": "Python 3",
   "language": "python",
   "name": "python3"
  },
  "language_info": {
   "codemirror_mode": {
    "name": "ipython",
    "version": 3
   },
   "file_extension": ".py",
   "mimetype": "text/x-python",
   "name": "python",
   "nbconvert_exporter": "python",
   "pygments_lexer": "ipython3",
   "version": "3.6.5"
  }
 },
 "nbformat": 4,
 "nbformat_minor": 2
}
