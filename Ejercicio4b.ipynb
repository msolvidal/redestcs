{
 "cells": [
  {
   "cell_type": "code",
   "execution_count": null,
   "metadata": {},
   "outputs": [],
   "source": [
    "# Trabajo computacional 1. Ejercicio 4.b"
   ]
  },
  {
   "cell_type": "markdown",
   "metadata": {},
   "source": [
    "**4.b.** Corra el script de cálculo (puntos i-iii) para las redes Y2H y AP-MS. Puede explicar lo\n",
    "que observa en cuanto a la asortatividad reportada?"
   ]
  },
  {
   "cell_type": "markdown",
   "metadata": {},
   "source": [
    "i. Determine, para nodos de grado k, cuánto vale en media el grado de sus vecinos."
   ]
  },
  {
   "cell_type": "code",
   "execution_count": 3,
   "metadata": {},
   "outputs": [],
   "source": [
    "def ldata(archive):      \n",
    "    f=open(archive)\n",
    "    data=[]\n",
    "    for line in f:\n",
    "        line=line.strip()\n",
    "        col=line.split()\n",
    "        data.append(col)\n",
    "    return data"
   ]
  },
  {
   "cell_type": "code",
   "execution_count": 4,
   "metadata": {},
   "outputs": [],
   "source": [
    "import numpy as np\n",
    "import networkx as nx\n",
    "import matplotlib.pyplot as plt\n",
    "import scipy as sc\n",
    "from scipy import stats\n",
    "import math\n",
    "from scipy import optimize\n",
    "\n",
    "\n",
    "red_proteinas=ldata(\"data/yeast_AP-MS.txt\")\n",
    "red_binarias=ldata(\"data/yeast_Y2H.txt\")\n",
    "G = nx.Graph()#directed\n",
    "G.add_edges_from(red_proteinas)\n",
    "H = nx.Graph()#directed\n",
    "H.add_edges_from(red_binarias)"
   ]
  },
  {
   "cell_type": "code",
   "execution_count": 5,
   "metadata": {},
   "outputs": [],
   "source": [
    "def NodoGrado(Grafo):\n",
    "    Nodos=[]\n",
    "    for n in Grafo.nodes():\n",
    "        Nodos.append([nx.degree(Grafo,n),n])\n",
    "    sorted(Nodos)\n",
    "    return Nodos \n",
    "\n",
    "def K_max(Grafo):\n",
    "    K=[]\n",
    "    for n in NodoGrado(Grafo):\n",
    "       K.append(n[0])\n",
    "    K_max=max(K)\n",
    "    return K_max"
   ]
  },
  {
   "cell_type": "code",
   "execution_count": 6,
   "metadata": {},
   "outputs": [],
   "source": [
    "def k_vec(Grafo):\n",
    "    Grado_GradoPromVec=[]\n",
    "    for n in NodoGrado(Grafo):\n",
    "        Vecinos=nx.all_neighbors(Grafo,n[1])\n",
    "        K=nx.degree(Grafo,Vecinos)\n",
    "        k_vecinos=[]\n",
    "        for i in K:\n",
    "            k_vecinos.append(i[1])\n",
    "        if len(K)!=0:\n",
    "            k_vecinos_promedio=sum(k_vecinos)/len(K)\n",
    "        else:\n",
    "            k_vecinos_promedio=0\n",
    "        Grado_GradoPromVec.append([n[0],k_vecinos_promedio])\n",
    "    k_nn=[]\n",
    "    k=[]\n",
    "    for i in range(1,K_max(Grafo)+1):\n",
    "        a=0\n",
    "        b=0\n",
    "        for n in Grado_GradoPromVec:\n",
    "            if n[0]==i:\n",
    "                a+=1\n",
    "                b+=n[1]\n",
    "        if a!=0:\n",
    "            k_nn.append(b/a)\n",
    "            k.append(i)\n",
    "    return k,k_nn"
   ]
  },
  {
   "cell_type": "code",
   "execution_count": 7,
   "metadata": {},
   "outputs": [],
   "source": [
    "F1=k_vec(G) ##proteina\n",
    "F2=k_vec(H) ##binaria"
   ]
  },
  {
   "cell_type": "code",
   "execution_count": 8,
   "metadata": {},
   "outputs": [
    {
     "data": {
      "image/png": "[encoded data removed]",
      "text/plain": [
       "<Figure size 432x288 with 1 Axes>"
      ]
     },
     "metadata": {},
     "output_type": "display_data"
    },
    {
     "data": {
      "image/png": "[encoded data removed]",
      "text/plain": [
       "<Figure size 432x288 with 1 Axes>"
      ]
     },
     "metadata": {},
     "output_type": "display_data"
    }
   ],
   "source": [
    "plt.scatter(F2[0],F2[1])\n",
    "plt.ylabel(\"p_nn(k)\")\n",
    "plt.xlabel(\"Grado\")\n",
    "plt.title('Grado de los vecinos para proteinas red binarias')\n",
    "plt.xscale('log')\n",
    "plt.yscale('log')\n",
    "plt.show()\n",
    "plt.title('Grado de los vecinos para red proteinas')\n",
    "plt.xscale('log')\n",
    "plt.yscale('log')\n",
    "plt.ylabel(\"p_nn(k)\")\n",
    "plt.xlabel(\"Grado\")\n",
    "plt.scatter(F1[0],F1[1])\n",
    "plt.show()"
   ]
  },
  {
   "cell_type": "markdown",
   "metadata": {},
   "source": [
    "iii. Asumiendo que $p_{𝑛𝑛}(𝑘) = 𝑎𝑘^𝜇$, estime el exponente de correlación a partir de\n",
    "realizar una regresión de $log p_{𝑛𝑛} \\sim log 𝑘$. Asegurese de graficar el fiteo en el\n",
    "grafico anterior. "
   ]
  },
  {
   "cell_type": "code",
   "execution_count": 9,
   "metadata": {},
   "outputs": [],
   "source": [
    "def fiteadora(p,x):\n",
    "    return p[0]+p[1]*x\n",
    "\n",
    "def error(p,x,y):\n",
    "    return fiteadora(p,x)-y"
   ]
  },
  {
   "cell_type": "code",
   "execution_count": 10,
   "metadata": {},
   "outputs": [],
   "source": [
    "F1logx=[]\n",
    "for i in F1[0]:\n",
    "    F1logx.append(np.log(i))\n",
    "F1logy=[]\n",
    "for i in F1[1]:\n",
    "    F1logy.append(np.log(i))"
   ]
  },
  {
   "cell_type": "code",
   "execution_count": 11,
   "metadata": {},
   "outputs": [
    {
     "data": {
      "text/plain": [
       "array([1.51258711, 0.59928924])"
      ]
     },
     "execution_count": 11,
     "metadata": {},
     "output_type": "execute_result"
    }
   ],
   "source": [
    "P_ini=[1,0.4]\n",
    "\n",
    "out= optimize.leastsq(error,P_ini,args=(np.array(F1logx), np.array(F1logy)),full_output=1)\n",
    "pfinal = out[0]\n",
    "covar = out[1]\n",
    "p0err=np.sqrt( covar[0][0] )\n",
    "p1err= np.sqrt( covar[1][1] )\n",
    "\n",
    "pfinal  #valores del ajuste"
   ]
  },
  {
   "cell_type": "code",
   "execution_count": 13,
   "metadata": {},
   "outputs": [
    {
     "data": {
      "image/png": "[encoded data removed]",
      "text/plain": [
       "<Figure size 432x288 with 1 Axes>"
      ]
     },
     "metadata": {},
     "output_type": "display_data"
    }
   ],
   "source": [
    "plt.scatter(F1[0],F1[1], color='black')\n",
    "plt.xscale('log')\n",
    "plt.yscale('log')\n",
    "plt.ylabel(\"p_nn(k)\")\n",
    "plt.xlabel(\"Grado\")\n",
    "plt.title('Ajuste para red proteinas')\n",
    "plt.plot(F1[0],(F1[0]**pfinal[1])* math.e**pfinal[0],c=\"r\" ,lw=4)\n",
    "\n",
    "plt.show()"
   ]
  },
  {
   "cell_type": "markdown",
   "metadata": {},
   "source": [
    "**iv.** Encuentre\n",
    "cuantitativamente la asortatividad de la red utilizando ahora el estimador\n",
    "propuesto por Newman: **r**"
   ]
  },
  {
   "cell_type": "code",
   "execution_count": 24,
   "metadata": {},
   "outputs": [],
   "source": [
    "def r(Grafo):\n",
    "    Enlaces_k=[]     #Lista de enlaces que también incluye los generos de los nodos del enlace              \n",
    "    for n in Grafo.edges:\n",
    "        Enlaces_k.append([n[0],Grafo.degree(n[0]),n[1],Grafo.degree(n[1])])\n",
    "    se=[]\n",
    "    for n in Enlaces_k:\n",
    "        se.append(n[1]*n[3])\n",
    "    Se=2*sum(se)\n",
    "    \n",
    "    s1=[]\n",
    "    for i in NodoGrado(Grafo):\n",
    "        s1.append(i[0])\n",
    "    S1=sum(s1)\n",
    "        \n",
    "    s2=[]\n",
    "    for j in NodoGrado(Grafo):\n",
    "        s2.append(j[0]**2)\n",
    "    S2=sum(s2)\n",
    "    \n",
    "    s3=[]\n",
    "    for h in NodoGrado(Grafo):\n",
    "        s3.append(h[0]**3)\n",
    "    S3=sum(s3)\n",
    "    \n",
    "    return (S1*Se-S2**2)/(S1*S3-S2**2)"
   ]
  },
  {
   "cell_type": "code",
   "execution_count": 26,
   "metadata": {},
   "outputs": [
    {
     "name": "stdout",
     "output_type": "stream",
     "text": [
      "0.6056742188944484\n",
      "-0.041067211172400114\n"
     ]
    }
   ],
   "source": [
    "print(r(G))\n",
    "print(r(H))\n"
   ]
  }
 ],
 "metadata": {
  "kernelspec": {
   "display_name": "Python 3",
   "language": "python",
   "name": "python3"
  },
  "language_info": {
   "codemirror_mode": {
    "name": "ipython",
    "version": 3
   },
   "file_extension": ".py",
   "mimetype": "text/x-python",
   "name": "python",
   "nbconvert_exporter": "python",
   "pygments_lexer": "ipython3",
   "version": "3.6.5"
  }
 },
 "nbformat": 4,
 "nbformat_minor": 2
}
