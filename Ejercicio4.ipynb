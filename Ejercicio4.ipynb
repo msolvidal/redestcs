{
 "cells": [
  {
   "cell_type": "markdown",
   "metadata": {},
   "source": [
    "# Trabajo Computacional 1. Ejercicio 4\n"
   ]
  },
  {
   "cell_type": "markdown",
   "metadata": {},
   "source": [
    "**4)** Asortatividad"
   ]
  },
  {
   "cell_type": "markdown",
   "metadata": {},
   "source": [
    "*a.* Considere la red de colaboraciones científicas (*netscience.gml*) y la red de internet (*as-july06.gml*). Analice si nodos de alto grado tienden a conectarse con nodos de alto grado o por el contrario suelen conectarse a nodos de bajo grado? (i.e la red es asortativa o disortativa respecto al grado?). Para ello:"
   ]
  },
  {
   "cell_type": "markdown",
   "metadata": {},
   "source": [
    "*i.* Determine, para nodos de grado k, cuánto vale en media el grado de sus vecinos."
   ]
  },
  {
   "cell_type": "code",
   "execution_count": 6,
   "metadata": {},
   "outputs": [],
   "source": [
    "import numpy as np\n",
    "import networkx as nx\n",
    "import matplotlib.pyplot as plt\n",
    "import scipy as sc\n",
    "from scipy import stats\n",
    "import math"
   ]
  },
  {
   "cell_type": "code",
   "execution_count": 2,
   "metadata": {},
   "outputs": [],
   "source": [
    "H=nx.read_gml(\"data/netscience.gml\")\n",
    "G=nx.read_gml(\"data/as-22july06.gml\")"
   ]
  },
  {
   "cell_type": "markdown",
   "metadata": {},
   "source": [
    "Para determinar el grado medio de los vecinos de un dado nodo de cada red, se trabajó con una función definida sobre la variable Grafo, permitiendo calcularlo para cada red. Primero creamos dos funciones que usaremos en la principal: la primera creará una lista que contenga la información [Grado del nodo i, nodo i] para todos los nodos de la red; la segunda da el grado máximo en cada red, esto permitirá hacer un barrido en los grados de la red para la función principal."
   ]
  },
  {
   "cell_type": "code",
   "execution_count": 3,
   "metadata": {},
   "outputs": [],
   "source": [
    "def NodoGrado(Grafo):\n",
    "    Nodos=[]\n",
    "    for n in Grafo.nodes():\n",
    "        Nodos.append([nx.degree(Grafo,n),n])\n",
    "    sorted(Nodos)\n",
    "    return Nodos \n",
    "\n",
    "def K_max(Grafo):\n",
    "    K=[]\n",
    "    for n in NodoGrado(Grafo):\n",
    "       K.append(n[0])\n",
    "    K_max=max(K)\n",
    "    return K_max"
   ]
  },
  {
   "cell_type": "markdown",
   "metadata": {},
   "source": [
    "La función consiste en primero calcular los vecinos para cada nodo de la lista creada en la función NodoGrado, luego se infirió el grado de los vecinos y se formó una lista con esos valores. Luego se promedió los valores de los vecinos para cada nodo, teniendo en cuenta que podría no tener vecinos. Luego se recorren todos los grados hasta el máximo de cada red y se promedia el valor de los vecinos para los nodos con ese grado, se tiene en cuenta que puede haber valores contemplados en el barrido que no sean grados de la red. La función genera dos listas, una que da grado k y la otra con el grado promedio de los vecinos para el grado k."
   ]
  },
  {
   "cell_type": "code",
   "execution_count": 4,
   "metadata": {},
   "outputs": [],
   "source": [
    "def k_vec(Grafo):\n",
    "    Grado_GradoPromVec=[]\n",
    "    for n in NodoGrado(Grafo):\n",
    "        Vecinos=nx.all_neighbors(Grafo,n[1])\n",
    "        K=nx.degree(Grafo,Vecinos)\n",
    "        k_vecinos=[]\n",
    "        for i in K:\n",
    "            k_vecinos.append(i[1])\n",
    "        if len(K)!=0:\n",
    "            k_vecinos_promedio=sum(k_vecinos)/len(K)\n",
    "        else:\n",
    "            k_vecinos_promedio=0\n",
    "        Grado_GradoPromVec.append([n[0],k_vecinos_promedio])\n",
    "    k_nn=[]\n",
    "    k=[]\n",
    "    for i in range(1,K_max(Grafo)+1):\n",
    "        a=0\n",
    "        b=0\n",
    "        for n in Grado_GradoPromVec:\n",
    "            if n[0]==i:\n",
    "                a+=1\n",
    "                b+=n[1]\n",
    "        if a!=0:\n",
    "            k_nn.append(b/a)\n",
    "            k.append(i)\n",
    "    return k,k_nn"
   ]
  },
  {
   "cell_type": "code",
   "execution_count": 5,
   "metadata": {},
   "outputs": [],
   "source": [
    "F1=k_vec(H)\n",
    "F2=k_vec(G)"
   ]
  },
  {
   "cell_type": "markdown",
   "metadata": {},
   "source": [
    "*ii.*Analizar la tendencia observada en un gráfico que consigne dicho valor $k_{nn}(k)$ como función del grado."
   ]
  },
  {
   "cell_type": "code",
   "execution_count": 11,
   "metadata": {
    "scrolled": false
   },
   "outputs": [
    {
     "data": {
      "image/png": "[encoded data removed]",
      "text/plain": [
       "<Figure size 432x288 with 1 Axes>"
      ]
     },
     "metadata": {},
     "output_type": "display_data"
    },
    {
     "data": {
      "image/png": "[encoded data removed]",
      "text/plain": [
       "<Figure size 432x288 with 1 Axes>"
      ]
     },
     "metadata": {},
     "output_type": "display_data"
    }
   ],
   "source": [
    "plt.scatter(F2[0],F2[1])\n",
    "plt.ylabel(\"p_nn(k)\")\n",
    "plt.xlabel(\"Grado\")\n",
    "plt.title('Grado de los vecinos para Internet')\n",
    "plt.xscale('log')\n",
    "plt.yscale('log')\n",
    "plt.show()\n",
    "plt.title('Grado de los vecinos para NetScience')\n",
    "plt.xscale('log')\n",
    "plt.yscale('log')\n",
    "plt.ylabel(\"p_nn(k)\")\n",
    "plt.xlabel(\"Grado\")\n",
    "plt.scatter(F1[0],F1[1])\n",
    "plt.show()"
   ]
  },
  {
   "cell_type": "markdown",
   "metadata": {},
   "source": [
    "Pareciera haber una tendencia lineal en ambos gráficos log-log. El primero (*Internet*) pareciera corresponder a una ley de potencias por ejemplo, si bien hay mucha dispersión en los valores centrales."
   ]
  },
  {
   "cell_type": "markdown",
   "metadata": {},
   "source": [
    "*iii.* Asumiendo que $𝑘_{𝑛𝑛}(𝑘)=𝑎𝑘^𝜇$, estime el exponente de correlación a partir de realizar una regresión de log$𝑘_{𝑛𝑛}$~log𝑘. Asegurese de graficar el fiteo en el grafico anterior."
   ]
  },
  {
   "cell_type": "markdown",
   "metadata": {},
   "source": [
    "Trabajaremos con la red *Internet*. Se estimó el tamaño de la lista, para poder hacer un barrido y tomar el logarítmo de los datos y así ajustar por una lineal."
   ]
  },
  {
   "cell_type": "code",
   "execution_count": 8,
   "metadata": {},
   "outputs": [
    {
     "data": {
      "text/plain": [
       "161"
      ]
     },
     "execution_count": 8,
     "metadata": {},
     "output_type": "execute_result"
    }
   ],
   "source": [
    "len(F2[0])"
   ]
  },
  {
   "cell_type": "code",
   "execution_count": 9,
   "metadata": {},
   "outputs": [
    {
     "name": "stdout",
     "output_type": "stream",
     "text": [
      "2 0.6931471805599453\n"
     ]
    }
   ],
   "source": [
    "b=161\n",
    "F2logx=[]\n",
    "for i in range(b):\n",
    "    a=math.log(F2[0][i])\n",
    "    F2logx.append(a)\n",
    "    \n",
    "print(F2[0][1],F2logx[1]) #chequeo que sea el logaritmo efectivamente\n",
    "F2logy=[]\n",
    "for j in range(b):\n",
    "    A=math.log(F2[1][j])\n",
    "    F2logy.append(A)\n",
    "    "
   ]
  },
  {
   "cell_type": "markdown",
   "metadata": {},
   "source": [
    "Ahora se trabaja con las nuevas listas de datos. Se calcula la regresión lineal y se registra la ordenada al origen y la pendiente."
   ]
  },
  {
   "cell_type": "code",
   "execution_count": 10,
   "metadata": {},
   "outputs": [
    {
     "name": "stdout",
     "output_type": "stream",
     "text": [
      "LinregressResult(slope=-0.444173551673417, intercept=6.327624965083439, rvalue=-0.6597397256731451, pvalue=1.7779776263191163e-21, stderr=0.04012426735752965)\n"
     ]
    }
   ],
   "source": [
    "reg=sc.stats.linregress(F2logx,F2logy)\n",
    "print(reg)\n"
   ]
  },
  {
   "cell_type": "code",
   "execution_count": 11,
   "metadata": {},
   "outputs": [
    {
     "data": {
      "image/png": "[encoded data removed]",
      "text/plain": [
       "<Figure size 432x288 with 1 Axes>"
      ]
     },
     "metadata": {},
     "output_type": "display_data"
    }
   ],
   "source": [
    "X=np.arange(1,3000,100)\n",
    "\n",
    "plt.scatter(F2[0],F2[1], color='black')\n",
    "plt.xscale('log')\n",
    "plt.yscale('log')\n",
    "plt.plot(X,(X**-0.444173551673417)* math.e**6.327624965083439, lw=4)\n",
    "plt.show()"
   ]
  },
  {
   "cell_type": "code",
   "execution_count": null,
   "metadata": {},
   "outputs": [],
   "source": []
  }
 ],
 "metadata": {
  "kernelspec": {
   "display_name": "Python 3",
   "language": "python",
   "name": "python3"
  },
  "language_info": {
   "codemirror_mode": {
    "name": "ipython",
    "version": 3
   },
   "file_extension": ".py",
   "mimetype": "text/x-python",
   "name": "python",
   "nbconvert_exporter": "python",
   "pygments_lexer": "ipython3",
   "version": "3.6.5"
  }
 },
 "nbformat": 4,
 "nbformat_minor": 2
}
