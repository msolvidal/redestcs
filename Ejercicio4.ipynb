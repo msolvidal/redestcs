{
 "cells": [
  {
   "cell_type": "markdown",
   "metadata": {},
   "source": [
    "# Trabajo Computacional 1. Ejercicio 4\n"
   ]
  },
  {
   "cell_type": "markdown",
   "metadata": {},
   "source": [
    "**4)** Asortatividad"
   ]
  },
  {
   "cell_type": "markdown",
   "metadata": {},
   "source": [
    "*a.* Considere la red de colaboraciones científicas (*netscience.gml*) y la red de internet (*as-july06.gml*). Analice si nodos de alto grado tienden a conectarse con nodos de alto grado o por el contrario suelen conectarse a nodos de bajo grado? (i.e la red es asortativa o disortativa respecto al grado?). Para ello:"
   ]
  },
  {
   "cell_type": "markdown",
   "metadata": {},
   "source": [
    "*i.* Determine, para nodos de grado k, cuánto vale en media el grado de sus vecinos."
   ]
  },
  {
   "cell_type": "code",
   "execution_count": 15,
   "metadata": {},
   "outputs": [],
   "source": [
    "import numpy as np\n",
    "import networkx as nx\n",
    "import matplotlib.pyplot as plt\n",
    "import scipy as sc\n",
    "from scipy import stats\n",
    "import math\n",
    "from scipy import optimize\n"
   ]
  },
  {
   "cell_type": "code",
   "execution_count": 2,
   "metadata": {},
   "outputs": [],
   "source": [
    "H=nx.read_gml(\"data/netscience.gml\")\n",
    "G=nx.read_gml(\"data/as-22july06.gml\")"
   ]
  },
  {
   "cell_type": "markdown",
   "metadata": {},
   "source": [
    "Para determinar el grado medio de los vecinos de un dado nodo de cada red, se trabajó con una función definida sobre la variable Grafo, permitiendo calcularlo para cada red. Primero creamos dos funciones que usaremos en la principal: la primera creará una lista que contenga la información [Grado del nodo i, nodo i] para todos los nodos de la red; la segunda da el grado máximo en cada red, esto permitirá hacer un barrido en los grados de la red para la función principal."
   ]
  },
  {
   "cell_type": "code",
   "execution_count": 3,
   "metadata": {},
   "outputs": [],
   "source": [
    "def NodoGrado(Grafo):\n",
    "    Nodos=[]\n",
    "    for n in Grafo.nodes():\n",
    "        Nodos.append([nx.degree(Grafo,n),n])\n",
    "    sorted(Nodos)\n",
    "    return Nodos \n",
    "\n",
    "def K_max(Grafo):\n",
    "    K=[]\n",
    "    for n in NodoGrado(Grafo):\n",
    "       K.append(n[0])\n",
    "    K_max=max(K)\n",
    "    return K_max"
   ]
  },
  {
   "cell_type": "markdown",
   "metadata": {},
   "source": [
    "La función consiste en primero calcular los vecinos para cada nodo de la lista creada en la función NodoGrado, luego se infirió el grado de los vecinos y se formó una lista con esos valores. Luego se promedió los valores de los vecinos para cada nodo, teniendo en cuenta que podría no tener vecinos. Luego se recorren todos los grados hasta el máximo de cada red y se promedia el valor de los vecinos para los nodos con ese grado, se tiene en cuenta que puede haber valores contemplados en el barrido que no sean grados de la red. La función genera dos listas, una que da grado k y la otra con el grado promedio de los vecinos para el grado k."
   ]
  },
  {
   "cell_type": "code",
   "execution_count": 4,
   "metadata": {},
   "outputs": [],
   "source": [
    "def k_vec(Grafo):\n",
    "    Grado_GradoPromVec=[]\n",
    "    for n in NodoGrado(Grafo):\n",
    "        Vecinos=nx.all_neighbors(Grafo,n[1])\n",
    "        K=nx.degree(Grafo,Vecinos)\n",
    "        k_vecinos=[]\n",
    "        for i in K:\n",
    "            k_vecinos.append(i[1])\n",
    "        if len(K)!=0:\n",
    "            k_vecinos_promedio=sum(k_vecinos)/len(K)\n",
    "        else:\n",
    "            k_vecinos_promedio=0\n",
    "        Grado_GradoPromVec.append([n[0],k_vecinos_promedio])\n",
    "    k_nn=[]\n",
    "    k=[]\n",
    "    for i in range(1,K_max(Grafo)+1):\n",
    "        a=0\n",
    "        b=0\n",
    "        for n in Grado_GradoPromVec:\n",
    "            if n[0]==i:\n",
    "                a+=1\n",
    "                b+=n[1]\n",
    "        if a!=0:\n",
    "            k_nn.append(b/a)\n",
    "            k.append(i)\n",
    "    return k,k_nn"
   ]
  },
  {
   "cell_type": "code",
   "execution_count": 5,
   "metadata": {},
   "outputs": [],
   "source": [
    "F1=k_vec(H)\n",
    "F2=k_vec(G)"
   ]
  },
  {
   "cell_type": "markdown",
   "metadata": {},
   "source": [
    "*ii.*Analizar la tendencia observada en un gráfico que consigne dicho valor $k_{nn}(k)$ como función del grado."
   ]
  },
  {
   "cell_type": "code",
   "execution_count": 6,
   "metadata": {
    "scrolled": false
   },
   "outputs": [
    {
     "data": {
      "image/png": "[encoded data removed]",
      "text/plain": [
       "<matplotlib.figure.Figure at 0x1f29187fa90>"
      ]
     },
     "metadata": {},
     "output_type": "display_data"
    },
    {
     "data": {
      "image/png": "[encoded data removed]",
      "text/plain": [
       "<matplotlib.figure.Figure at 0x1f2917f9eb8>"
      ]
     },
     "metadata": {},
     "output_type": "display_data"
    }
   ],
   "source": [
    "plt.scatter(F2[0],F2[1])\n",
    "plt.ylabel(\"p_nn(k)\")\n",
    "plt.xlabel(\"Grado\")\n",
    "plt.title('Grado de los vecinos para Internet')\n",
    "plt.xscale('log')\n",
    "plt.yscale('log')\n",
    "plt.show()\n",
    "plt.title('Grado de los vecinos para NetScience')\n",
    "plt.xscale('log')\n",
    "plt.yscale('log')\n",
    "plt.ylabel(\"p_nn(k)\")\n",
    "plt.xlabel(\"Grado\")\n",
    "plt.scatter(F1[0],F1[1])\n",
    "plt.show()"
   ]
  },
  {
   "cell_type": "markdown",
   "metadata": {},
   "source": [
    "Pareciera haber una tendencia lineal en ambos gráficos log-log. El primero (*Internet*) pareciera corresponder a una ley de potencias por ejemplo, si bien hay mucha dispersión en los valores centrales."
   ]
  },
  {
   "cell_type": "markdown",
   "metadata": {},
   "source": [
    "*iii.* Asumiendo que $𝑘_{𝑛𝑛}(𝑘)=𝑎𝑘^𝜇$, estime el exponente de correlación a partir de realizar una regresión de log$𝑘_{𝑛𝑛}$~log𝑘. Asegurese de graficar el fiteo en el grafico anterior."
   ]
  },
  {
   "cell_type": "markdown",
   "metadata": {},
   "source": [
    "Trabajaremos con la red *Internet*. Se estimó el tamaño de la lista, para poder hacer un barrido y tomar el logarítmo de los datos y así ajustar por una lineal."
   ]
  },
  {
   "cell_type": "code",
   "execution_count": 7,
   "metadata": {},
   "outputs": [
    {
     "data": {
      "text/plain": [
       "161"
      ]
     },
     "execution_count": 7,
     "metadata": {},
     "output_type": "execute_result"
    }
   ],
   "source": [
    "len(F2[0])"
   ]
  },
  {
   "cell_type": "code",
   "execution_count": 8,
   "metadata": {},
   "outputs": [
    {
     "name": "stdout",
     "output_type": "stream",
     "text": [
      "2 0.6931471805599453\n"
     ]
    }
   ],
   "source": [
    "b=161\n",
    "F2logx=[]\n",
    "for i in range(b):\n",
    "    a=math.log(F2[0][i])\n",
    "    F2logx.append(a)\n",
    "    \n",
    "print(F2[0][1],F2logx[1]) #chequeo que sea el logaritmo efectivamente\n",
    "F2logy=[]\n",
    "for j in range(b):\n",
    "    A=math.log(F2[1][j])\n",
    "    F2logy.append(A)\n",
    "    "
   ]
  },
  {
   "cell_type": "markdown",
   "metadata": {},
   "source": [
    "Ahora se trabaja con las nuevas listas de datos. Se calcula la regresión lineal y se registra la ordenada al origen y la pendiente."
   ]
  },
  {
   "cell_type": "code",
   "execution_count": 9,
   "metadata": {},
   "outputs": [
    {
     "name": "stdout",
     "output_type": "stream",
     "text": [
      "LinregressResult(slope=-0.4441735516734168, intercept=6.327624965083438, rvalue=-0.6597397256731451, pvalue=1.7779776263191163e-21, stderr=0.040124267357529636)\n"
     ]
    }
   ],
   "source": [
    "reg=sc.stats.linregress(F2logx,F2logy)\n",
    "print(reg)\n"
   ]
  },
  {
   "cell_type": "code",
   "execution_count": 13,
   "metadata": {},
   "outputs": [
    {
     "data": {
      "image/png": "[encoded data removed]",
      "text/plain": [
       "<matplotlib.figure.Figure at 0x1f2916e6320>"
      ]
     },
     "metadata": {},
     "output_type": "display_data"
    }
   ],
   "source": [
    "X=np.arange(1,3000,100)\n",
    "\n",
    "plt.scatter(F2[0],F2[1], color='black')\n",
    "plt.xscale('log')\n",
    "plt.yscale('log')\n",
    "plt.plot(X,(X**-0.444173551673417)* math.e**6.327624965083439, lw=4)\n",
    "plt.show()"
   ]
  },
  {
   "cell_type": "markdown",
   "metadata": {},
   "source": [
    "Probemos con cuadrados mínimos"
   ]
  },
  {
   "cell_type": "code",
   "execution_count": 11,
   "metadata": {},
   "outputs": [],
   "source": [
    "def fiteadora(p,x):\n",
    "    return p[0]+p[1]*x\n",
    "\n",
    "def error(p,x,y):\n",
    "    return fiteadora(p,x)-y"
   ]
  },
  {
   "cell_type": "code",
   "execution_count": 17,
   "metadata": {},
   "outputs": [
    {
     "data": {
      "text/plain": [
       "array([ 6.32762496, -0.44417355])"
      ]
     },
     "execution_count": 17,
     "metadata": {},
     "output_type": "execute_result"
    }
   ],
   "source": [
    "P_ini=[6,-0.4]\n",
    "\n",
    "out= optimize.leastsq(error,P_ini,args=(np.array(F2logx), np.array(F2logy)),full_output=1)\n",
    "pfinal = out[0]\n",
    "covar = out[1]\n",
    "p0err=np.sqrt( covar[0][0] )\n",
    "p1err= np.sqrt( covar[1][1] )\n",
    "\n",
    "pfinal  #valores del ajuste"
   ]
  },
  {
   "cell_type": "code",
   "execution_count": 50,
   "metadata": {},
   "outputs": [],
   "source": [
    "def error_y(p,x,y):\n",
    "    return (fiteadora(p,x)-y)**2\n",
    "def error_ajuste(p,x,y,err):\n",
    "    return (fiteadora(p,x)-y)/err"
   ]
  },
  {
   "cell_type": "code",
   "execution_count": 51,
   "metadata": {},
   "outputs": [],
   "source": [
    "yerror=error_y(pfinal,np.array(F2logx),np.array(F2logy))\n"
   ]
  },
  {
   "cell_type": "code",
   "execution_count": 52,
   "metadata": {},
   "outputs": [],
   "source": [
    "salida=optimize.leastsq(error_ajuste,P_ini,args=(np.array(F2logx), np.array(F2logy),yerror),full_output=1)\n",
    "pfinal_op = salida[0]\n",
    "covar_op= salida[1]\n",
    "p0err_op=np.sqrt( covar[0][0] )\n",
    "p1err_op= np.sqrt( covar[1][1] )"
   ]
  },
  {
   "cell_type": "code",
   "execution_count": 53,
   "metadata": {},
   "outputs": [
    {
     "data": {
      "image/png": "[encoded data removed]",
      "text/plain": [
       "<matplotlib.figure.Figure at 0x1f2917254e0>"
      ]
     },
     "metadata": {},
     "output_type": "display_data"
    }
   ],
   "source": [
    "plt.scatter(F2[0],F2[1], color='black')\n",
    "plt.errorbar(F2[0], F2[1], yerr=yerror, fmt='k.')\n",
    "plt.xscale('log')\n",
    "plt.yscale('log')\n",
    "plt.plot(F2[0],(F2[0]**pfinal_op[1])* math.e**pfinal_op[0],c=\"r\" ,lw=4)\n",
    "plt.plot(X,(X**-0.444173551673417)* math.e**6.327624965083439, lw=4)\n",
    "\n",
    "plt.show()"
   ]
  },
  {
   "cell_type": "code",
   "execution_count": 56,
   "metadata": {},
   "outputs": [],
   "source": [
    "def r(Grafo):\n",
    "    Enlaces_k=[]     #Lista de enlaces que también incluye los generos de los nodos del enlace              \n",
    "    for n in Grafo.edges:\n",
    "        Enlaces_k.append([n[0],Grafo.degree(n[0]),n[1],Grafo.degree(n[1])])\n",
    "    se=[]\n",
    "    for n in Enlaces_k:\n",
    "        se.append(n[1]*n[3])\n",
    "    Se=2*sum(se)\n",
    "    \n",
    "    s1=[]\n",
    "    for i in NodoGrado(Grafo):\n",
    "        s1.append(i[0])\n",
    "    S1=sum(s1)\n",
    "        \n",
    "    s2=[]\n",
    "    for j in NodoGrado(Grafo):\n",
    "        s2.append(j[0]**2)\n",
    "    S2=sum(s2)\n",
    "    \n",
    "    s3=[]\n",
    "    for h in NodoGrado(Grafo):\n",
    "        s3.append(h[0]**3)\n",
    "    S3=sum(s3)\n",
    "    \n",
    "    return (S1*Se-S2**2)/(S1*S3-S2**2)"
   ]
  },
  {
   "cell_type": "code",
   "execution_count": null,
   "metadata": {},
   "outputs": [],
   "source": []
  },
  {
   "cell_type": "code",
   "execution_count": 58,
   "metadata": {},
   "outputs": [
    {
     "name": "stdout",
     "output_type": "stream",
     "text": [
      "0.4616224667525835 -0.19838487512056477\n"
     ]
    }
   ],
   "source": [
    "r_H=r(H)\n",
    "r_G=r(G)\n",
    "print(r_H,r_G)"
   ]
  }
 ],
 "metadata": {
  "kernelspec": {
   "display_name": "Python 3",
   "language": "python",
   "name": "python3"
  },
  "language_info": {
   "codemirror_mode": {
    "name": "ipython",
    "version": 3
   },
   "file_extension": ".py",
   "mimetype": "text/x-python",
   "name": "python",
   "nbconvert_exporter": "python",
   "pygments_lexer": "ipython3",
   "version": "3.6.5"
  }
 },
 "nbformat": 4,
 "nbformat_minor": 2
}
